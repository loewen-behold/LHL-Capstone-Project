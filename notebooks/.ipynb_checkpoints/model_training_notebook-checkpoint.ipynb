{
 "cells": [
  {
   "cell_type": "markdown",
   "id": "ec9197ee-6260-45dc-9382-6ed176f88df7",
   "metadata": {},
   "source": [
    "# Model Training"
   ]
  },
  {
   "cell_type": "markdown",
   "id": "1fd9d7e5-95d6-45f7-8803-721df951afcc",
   "metadata": {},
   "source": [
    "This pre-processing recieves a .xlsx file and returns a processed.xlsx file. "
   ]
  },
  {
   "cell_type": "code",
   "execution_count": 2,
   "id": "041219a3-929b-4e28-a90e-1e98c5608e7e",
   "metadata": {
    "tags": []
   },
   "outputs": [],
   "source": [
    "import os\n",
    "os.chdir('..')"
   ]
  },
  {
   "cell_type": "code",
   "execution_count": 3,
   "id": "efcb8eda-4b3d-4d93-80f8-038f37acd40e",
   "metadata": {
    "tags": []
   },
   "outputs": [],
   "source": [
    "import pandas as pd\n",
    "import numpy as np\n",
    "from sklearn.model_selection import train_test_split\n",
    "from src.data_preprocessing import df_construct, add_eng_values, alter_term_gender\n",
    "from src.model_training import build_preprocessor, build_model, build_full_pipeline\n",
    "from sklearn.metrics import accuracy_score, classification_report, confusion_matrix"
   ]
  },
  {
   "cell_type": "code",
   "execution_count": 4,
   "id": "ba0c9d9c-633a-49e4-ad89-3696a6539f50",
   "metadata": {
    "tags": []
   },
   "outputs": [],
   "source": [
    "excel_file = pd.ExcelFile('data/raw_data/D2lData.xlsx')\n",
    "\n",
    "# Reading each sheet into a DataFrame\n",
    "df_d2l = pd.read_excel(excel_file, 'd2l')\n",
    "df_demo = pd.read_excel(excel_file, 'demographics')\n",
    "df_grades = pd.read_excel(excel_file, 'grades')"
   ]
  },
  {
   "cell_type": "code",
   "execution_count": 5,
   "id": "0d4ffefa-39dc-47d3-bd89-ec3311da4083",
   "metadata": {
    "tags": []
   },
   "outputs": [],
   "source": [
    "df = df_construct(df_d2l, df_demo, df_grades)"
   ]
  },
  {
   "cell_type": "code",
   "execution_count": 6,
   "id": "1af77621-3326-4192-9f7d-ec898d7e19d7",
   "metadata": {
    "tags": []
   },
   "outputs": [],
   "source": [
    "# Save this cleaned dataframe to the data/processed_data folder for future use.\n",
    "df.to_csv('data/processed_data/df_cleaned.csv', index=False)"
   ]
  },
  {
   "cell_type": "code",
   "execution_count": 7,
   "id": "d2d6ddd4-3e78-42d5-bee2-7c0fe0d48154",
   "metadata": {
    "tags": []
   },
   "outputs": [],
   "source": [
    "# Use this code in the event that it's needed\n",
    "# df = pd.read_csv('data/processed_data/df_cleaned.csv')"
   ]
  },
  {
   "cell_type": "code",
   "execution_count": 8,
   "id": "30e492c6-b447-4763-8339-f641abba6e70",
   "metadata": {
    "tags": []
   },
   "outputs": [],
   "source": [
    "X = df.drop('at_risk', axis=1)\n",
    "y = df.at_risk"
   ]
  },
  {
   "cell_type": "code",
   "execution_count": 9,
   "id": "f4e20734-33de-45b6-8f03-1a0737a76c07",
   "metadata": {
    "tags": []
   },
   "outputs": [],
   "source": [
    "# Train-test split\n",
    "X_train, X_test, y_train, y_test = train_test_split(X, y, test_size=0.2, random_state=42)"
   ]
  },
  {
   "cell_type": "code",
   "execution_count": 10,
   "id": "137ece3d-4f08-407b-bfd0-67e8d49d58cf",
   "metadata": {
    "tags": []
   },
   "outputs": [],
   "source": [
    "numeric_features = X_train.select_dtypes(include=['number']).columns.tolist()\n",
    "categorical_features = X_train.select_dtypes(include=['object']).columns.tolist()\n",
    "\n",
    "preprocessor = build_preprocessor(numeric_features, categorical_features)\n",
    "model = build_model()\n",
    "full_pipeline = build_full_pipeline(preprocessor, model)"
   ]
  },
  {
   "cell_type": "code",
   "execution_count": 11,
   "id": "c09b793a-6b55-44bb-9684-98c6993b3fde",
   "metadata": {
    "tags": []
   },
   "outputs": [
    {
     "data": {
      "text/html": [
       "<style>#sk-container-id-1 {color: black;}#sk-container-id-1 pre{padding: 0;}#sk-container-id-1 div.sk-toggleable {background-color: white;}#sk-container-id-1 label.sk-toggleable__label {cursor: pointer;display: block;width: 100%;margin-bottom: 0;padding: 0.3em;box-sizing: border-box;text-align: center;}#sk-container-id-1 label.sk-toggleable__label-arrow:before {content: \"▸\";float: left;margin-right: 0.25em;color: #696969;}#sk-container-id-1 label.sk-toggleable__label-arrow:hover:before {color: black;}#sk-container-id-1 div.sk-estimator:hover label.sk-toggleable__label-arrow:before {color: black;}#sk-container-id-1 div.sk-toggleable__content {max-height: 0;max-width: 0;overflow: hidden;text-align: left;background-color: #f0f8ff;}#sk-container-id-1 div.sk-toggleable__content pre {margin: 0.2em;color: black;border-radius: 0.25em;background-color: #f0f8ff;}#sk-container-id-1 input.sk-toggleable__control:checked~div.sk-toggleable__content {max-height: 200px;max-width: 100%;overflow: auto;}#sk-container-id-1 input.sk-toggleable__control:checked~label.sk-toggleable__label-arrow:before {content: \"▾\";}#sk-container-id-1 div.sk-estimator input.sk-toggleable__control:checked~label.sk-toggleable__label {background-color: #d4ebff;}#sk-container-id-1 div.sk-label input.sk-toggleable__control:checked~label.sk-toggleable__label {background-color: #d4ebff;}#sk-container-id-1 input.sk-hidden--visually {border: 0;clip: rect(1px 1px 1px 1px);clip: rect(1px, 1px, 1px, 1px);height: 1px;margin: -1px;overflow: hidden;padding: 0;position: absolute;width: 1px;}#sk-container-id-1 div.sk-estimator {font-family: monospace;background-color: #f0f8ff;border: 1px dotted black;border-radius: 0.25em;box-sizing: border-box;margin-bottom: 0.5em;}#sk-container-id-1 div.sk-estimator:hover {background-color: #d4ebff;}#sk-container-id-1 div.sk-parallel-item::after {content: \"\";width: 100%;border-bottom: 1px solid gray;flex-grow: 1;}#sk-container-id-1 div.sk-label:hover label.sk-toggleable__label {background-color: #d4ebff;}#sk-container-id-1 div.sk-serial::before {content: \"\";position: absolute;border-left: 1px solid gray;box-sizing: border-box;top: 0;bottom: 0;left: 50%;z-index: 0;}#sk-container-id-1 div.sk-serial {display: flex;flex-direction: column;align-items: center;background-color: white;padding-right: 0.2em;padding-left: 0.2em;position: relative;}#sk-container-id-1 div.sk-item {position: relative;z-index: 1;}#sk-container-id-1 div.sk-parallel {display: flex;align-items: stretch;justify-content: center;background-color: white;position: relative;}#sk-container-id-1 div.sk-item::before, #sk-container-id-1 div.sk-parallel-item::before {content: \"\";position: absolute;border-left: 1px solid gray;box-sizing: border-box;top: 0;bottom: 0;left: 50%;z-index: -1;}#sk-container-id-1 div.sk-parallel-item {display: flex;flex-direction: column;z-index: 1;position: relative;background-color: white;}#sk-container-id-1 div.sk-parallel-item:first-child::after {align-self: flex-end;width: 50%;}#sk-container-id-1 div.sk-parallel-item:last-child::after {align-self: flex-start;width: 50%;}#sk-container-id-1 div.sk-parallel-item:only-child::after {width: 0;}#sk-container-id-1 div.sk-dashed-wrapped {border: 1px dashed gray;margin: 0 0.4em 0.5em 0.4em;box-sizing: border-box;padding-bottom: 0.4em;background-color: white;}#sk-container-id-1 div.sk-label label {font-family: monospace;font-weight: bold;display: inline-block;line-height: 1.2em;}#sk-container-id-1 div.sk-label-container {text-align: center;}#sk-container-id-1 div.sk-container {/* jupyter's `normalize.less` sets `[hidden] { display: none; }` but bootstrap.min.css set `[hidden] { display: none !important; }` so we also need the `!important` here to be able to override the default hidden behavior on the sphinx rendered scikit-learn.org. See: https://github.com/scikit-learn/scikit-learn/issues/21755 */display: inline-block !important;position: relative;}#sk-container-id-1 div.sk-text-repr-fallback {display: none;}</style><div id=\"sk-container-id-1\" class=\"sk-top-container\"><div class=\"sk-text-repr-fallback\"><pre>Pipeline(steps=[(&#x27;preprocessor&#x27;,\n",
       "                 ColumnTransformer(transformers=[(&#x27;num&#x27;,\n",
       "                                                  Pipeline(steps=[(&#x27;imputer&#x27;,\n",
       "                                                                   SimpleImputer(fill_value=0,\n",
       "                                                                                 strategy=&#x27;constant&#x27;)),\n",
       "                                                                  (&#x27;log_transform&#x27;,\n",
       "                                                                   FunctionTransformer(func=&lt;ufunc &#x27;log1p&#x27;&gt;,\n",
       "                                                                                       inverse_func=&lt;ufunc &#x27;expm1&#x27;&gt;))]),\n",
       "                                                  [&#x27;content_completed&#x27;,\n",
       "                                                   &#x27;content_required&#x27;,\n",
       "                                                   &#x27;checklist_completed&#x27;,\n",
       "                                                   &#x27;quiz_completed&#x27;,\n",
       "                                                   &#x27;total_quiz_attempts&#x27;,\n",
       "                                                   &#x27;discussion_p...\n",
       "                                                   &#x27;total_time_spent_in_content&#x27;,\n",
       "                                                   &#x27;number_of_logins_to_the_system&#x27;,\n",
       "                                                   &#x27;age&#x27;, &#x27;total_course_count&#x27;,\n",
       "                                                   &#x27;course_count_by_term&#x27;,\n",
       "                                                   &#x27;completion_ratio&#x27;,\n",
       "                                                   &#x27;logins_per_course&#x27;,\n",
       "                                                   &#x27;avg_time_per_login&#x27;]),\n",
       "                                                 (&#x27;cat&#x27;,\n",
       "                                                  Pipeline(steps=[(&#x27;onehot&#x27;,\n",
       "                                                                   OneHotEncoder(handle_unknown=&#x27;ignore&#x27;,\n",
       "                                                                                 sparse_output=False))]),\n",
       "                                                  [&#x27;term&#x27;, &#x27;pseudo_course&#x27;,\n",
       "                                                   &#x27;gender&#x27;, &#x27;imm_status&#x27;])])),\n",
       "                (&#x27;model&#x27;, RandomForestClassifier())])</pre><b>In a Jupyter environment, please rerun this cell to show the HTML representation or trust the notebook. <br />On GitHub, the HTML representation is unable to render, please try loading this page with nbviewer.org.</b></div><div class=\"sk-container\" hidden><div class=\"sk-item sk-dashed-wrapped\"><div class=\"sk-label-container\"><div class=\"sk-label sk-toggleable\"><input class=\"sk-toggleable__control sk-hidden--visually\" id=\"sk-estimator-id-1\" type=\"checkbox\" ><label for=\"sk-estimator-id-1\" class=\"sk-toggleable__label sk-toggleable__label-arrow\">Pipeline</label><div class=\"sk-toggleable__content\"><pre>Pipeline(steps=[(&#x27;preprocessor&#x27;,\n",
       "                 ColumnTransformer(transformers=[(&#x27;num&#x27;,\n",
       "                                                  Pipeline(steps=[(&#x27;imputer&#x27;,\n",
       "                                                                   SimpleImputer(fill_value=0,\n",
       "                                                                                 strategy=&#x27;constant&#x27;)),\n",
       "                                                                  (&#x27;log_transform&#x27;,\n",
       "                                                                   FunctionTransformer(func=&lt;ufunc &#x27;log1p&#x27;&gt;,\n",
       "                                                                                       inverse_func=&lt;ufunc &#x27;expm1&#x27;&gt;))]),\n",
       "                                                  [&#x27;content_completed&#x27;,\n",
       "                                                   &#x27;content_required&#x27;,\n",
       "                                                   &#x27;checklist_completed&#x27;,\n",
       "                                                   &#x27;quiz_completed&#x27;,\n",
       "                                                   &#x27;total_quiz_attempts&#x27;,\n",
       "                                                   &#x27;discussion_p...\n",
       "                                                   &#x27;total_time_spent_in_content&#x27;,\n",
       "                                                   &#x27;number_of_logins_to_the_system&#x27;,\n",
       "                                                   &#x27;age&#x27;, &#x27;total_course_count&#x27;,\n",
       "                                                   &#x27;course_count_by_term&#x27;,\n",
       "                                                   &#x27;completion_ratio&#x27;,\n",
       "                                                   &#x27;logins_per_course&#x27;,\n",
       "                                                   &#x27;avg_time_per_login&#x27;]),\n",
       "                                                 (&#x27;cat&#x27;,\n",
       "                                                  Pipeline(steps=[(&#x27;onehot&#x27;,\n",
       "                                                                   OneHotEncoder(handle_unknown=&#x27;ignore&#x27;,\n",
       "                                                                                 sparse_output=False))]),\n",
       "                                                  [&#x27;term&#x27;, &#x27;pseudo_course&#x27;,\n",
       "                                                   &#x27;gender&#x27;, &#x27;imm_status&#x27;])])),\n",
       "                (&#x27;model&#x27;, RandomForestClassifier())])</pre></div></div></div><div class=\"sk-serial\"><div class=\"sk-item sk-dashed-wrapped\"><div class=\"sk-label-container\"><div class=\"sk-label sk-toggleable\"><input class=\"sk-toggleable__control sk-hidden--visually\" id=\"sk-estimator-id-2\" type=\"checkbox\" ><label for=\"sk-estimator-id-2\" class=\"sk-toggleable__label sk-toggleable__label-arrow\">preprocessor: ColumnTransformer</label><div class=\"sk-toggleable__content\"><pre>ColumnTransformer(transformers=[(&#x27;num&#x27;,\n",
       "                                 Pipeline(steps=[(&#x27;imputer&#x27;,\n",
       "                                                  SimpleImputer(fill_value=0,\n",
       "                                                                strategy=&#x27;constant&#x27;)),\n",
       "                                                 (&#x27;log_transform&#x27;,\n",
       "                                                  FunctionTransformer(func=&lt;ufunc &#x27;log1p&#x27;&gt;,\n",
       "                                                                      inverse_func=&lt;ufunc &#x27;expm1&#x27;&gt;))]),\n",
       "                                 [&#x27;content_completed&#x27;, &#x27;content_required&#x27;,\n",
       "                                  &#x27;checklist_completed&#x27;, &#x27;quiz_completed&#x27;,\n",
       "                                  &#x27;total_quiz_attempts&#x27;,\n",
       "                                  &#x27;discussion_post_created&#x27;,\n",
       "                                  &#x27;discussion_post_re...\n",
       "                                  &#x27;number_of_assignment_submissions&#x27;,\n",
       "                                  &#x27;total_time_spent_in_content&#x27;,\n",
       "                                  &#x27;number_of_logins_to_the_system&#x27;, &#x27;age&#x27;,\n",
       "                                  &#x27;total_course_count&#x27;, &#x27;course_count_by_term&#x27;,\n",
       "                                  &#x27;completion_ratio&#x27;, &#x27;logins_per_course&#x27;,\n",
       "                                  &#x27;avg_time_per_login&#x27;]),\n",
       "                                (&#x27;cat&#x27;,\n",
       "                                 Pipeline(steps=[(&#x27;onehot&#x27;,\n",
       "                                                  OneHotEncoder(handle_unknown=&#x27;ignore&#x27;,\n",
       "                                                                sparse_output=False))]),\n",
       "                                 [&#x27;term&#x27;, &#x27;pseudo_course&#x27;, &#x27;gender&#x27;,\n",
       "                                  &#x27;imm_status&#x27;])])</pre></div></div></div><div class=\"sk-parallel\"><div class=\"sk-parallel-item\"><div class=\"sk-item\"><div class=\"sk-label-container\"><div class=\"sk-label sk-toggleable\"><input class=\"sk-toggleable__control sk-hidden--visually\" id=\"sk-estimator-id-3\" type=\"checkbox\" ><label for=\"sk-estimator-id-3\" class=\"sk-toggleable__label sk-toggleable__label-arrow\">num</label><div class=\"sk-toggleable__content\"><pre>[&#x27;content_completed&#x27;, &#x27;content_required&#x27;, &#x27;checklist_completed&#x27;, &#x27;quiz_completed&#x27;, &#x27;total_quiz_attempts&#x27;, &#x27;discussion_post_created&#x27;, &#x27;discussion_post_replies&#x27;, &#x27;discussion_post_read&#x27;, &#x27;number_of_assignment_submissions&#x27;, &#x27;total_time_spent_in_content&#x27;, &#x27;number_of_logins_to_the_system&#x27;, &#x27;age&#x27;, &#x27;total_course_count&#x27;, &#x27;course_count_by_term&#x27;, &#x27;completion_ratio&#x27;, &#x27;logins_per_course&#x27;, &#x27;avg_time_per_login&#x27;]</pre></div></div></div><div class=\"sk-serial\"><div class=\"sk-item\"><div class=\"sk-serial\"><div class=\"sk-item\"><div class=\"sk-estimator sk-toggleable\"><input class=\"sk-toggleable__control sk-hidden--visually\" id=\"sk-estimator-id-4\" type=\"checkbox\" ><label for=\"sk-estimator-id-4\" class=\"sk-toggleable__label sk-toggleable__label-arrow\">SimpleImputer</label><div class=\"sk-toggleable__content\"><pre>SimpleImputer(fill_value=0, strategy=&#x27;constant&#x27;)</pre></div></div></div><div class=\"sk-item\"><div class=\"sk-estimator sk-toggleable\"><input class=\"sk-toggleable__control sk-hidden--visually\" id=\"sk-estimator-id-5\" type=\"checkbox\" ><label for=\"sk-estimator-id-5\" class=\"sk-toggleable__label sk-toggleable__label-arrow\">FunctionTransformer</label><div class=\"sk-toggleable__content\"><pre>FunctionTransformer(func=&lt;ufunc &#x27;log1p&#x27;&gt;, inverse_func=&lt;ufunc &#x27;expm1&#x27;&gt;)</pre></div></div></div></div></div></div></div></div><div class=\"sk-parallel-item\"><div class=\"sk-item\"><div class=\"sk-label-container\"><div class=\"sk-label sk-toggleable\"><input class=\"sk-toggleable__control sk-hidden--visually\" id=\"sk-estimator-id-6\" type=\"checkbox\" ><label for=\"sk-estimator-id-6\" class=\"sk-toggleable__label sk-toggleable__label-arrow\">cat</label><div class=\"sk-toggleable__content\"><pre>[&#x27;term&#x27;, &#x27;pseudo_course&#x27;, &#x27;gender&#x27;, &#x27;imm_status&#x27;]</pre></div></div></div><div class=\"sk-serial\"><div class=\"sk-item\"><div class=\"sk-serial\"><div class=\"sk-item\"><div class=\"sk-estimator sk-toggleable\"><input class=\"sk-toggleable__control sk-hidden--visually\" id=\"sk-estimator-id-7\" type=\"checkbox\" ><label for=\"sk-estimator-id-7\" class=\"sk-toggleable__label sk-toggleable__label-arrow\">OneHotEncoder</label><div class=\"sk-toggleable__content\"><pre>OneHotEncoder(handle_unknown=&#x27;ignore&#x27;, sparse_output=False)</pre></div></div></div></div></div></div></div></div></div></div><div class=\"sk-item\"><div class=\"sk-estimator sk-toggleable\"><input class=\"sk-toggleable__control sk-hidden--visually\" id=\"sk-estimator-id-8\" type=\"checkbox\" ><label for=\"sk-estimator-id-8\" class=\"sk-toggleable__label sk-toggleable__label-arrow\">RandomForestClassifier</label><div class=\"sk-toggleable__content\"><pre>RandomForestClassifier()</pre></div></div></div></div></div></div></div>"
      ],
      "text/plain": [
       "Pipeline(steps=[('preprocessor',\n",
       "                 ColumnTransformer(transformers=[('num',\n",
       "                                                  Pipeline(steps=[('imputer',\n",
       "                                                                   SimpleImputer(fill_value=0,\n",
       "                                                                                 strategy='constant')),\n",
       "                                                                  ('log_transform',\n",
       "                                                                   FunctionTransformer(func=<ufunc 'log1p'>,\n",
       "                                                                                       inverse_func=<ufunc 'expm1'>))]),\n",
       "                                                  ['content_completed',\n",
       "                                                   'content_required',\n",
       "                                                   'checklist_completed',\n",
       "                                                   'quiz_completed',\n",
       "                                                   'total_quiz_attempts',\n",
       "                                                   'discussion_p...\n",
       "                                                   'total_time_spent_in_content',\n",
       "                                                   'number_of_logins_to_the_system',\n",
       "                                                   'age', 'total_course_count',\n",
       "                                                   'course_count_by_term',\n",
       "                                                   'completion_ratio',\n",
       "                                                   'logins_per_course',\n",
       "                                                   'avg_time_per_login']),\n",
       "                                                 ('cat',\n",
       "                                                  Pipeline(steps=[('onehot',\n",
       "                                                                   OneHotEncoder(handle_unknown='ignore',\n",
       "                                                                                 sparse_output=False))]),\n",
       "                                                  ['term', 'pseudo_course',\n",
       "                                                   'gender', 'imm_status'])])),\n",
       "                ('model', RandomForestClassifier())])"
      ]
     },
     "execution_count": 11,
     "metadata": {},
     "output_type": "execute_result"
    }
   ],
   "source": [
    "# Fit the pipeline to your training data\n",
    "full_pipeline.fit(X_train, y_train)"
   ]
  },
  {
   "cell_type": "code",
   "execution_count": 12,
   "id": "0fc3ed12-62ce-433d-86fa-1a9936393a23",
   "metadata": {
    "tags": []
   },
   "outputs": [],
   "source": [
    "# Predictions\n",
    "y_pred = full_pipeline.predict(X_test)"
   ]
  },
  {
   "cell_type": "markdown",
   "id": "ae4f9557-59ec-4fca-9a3b-5e6d364192a7",
   "metadata": {},
   "source": [
    "## Evaluate The Model\n",
    "\n",
    "#### Here we will check the accuracy, precision, recall, and f1-score, along with a confusion matrix"
   ]
  },
  {
   "cell_type": "code",
   "execution_count": 13,
   "id": "e65cd52a-6d87-4856-89a3-8c47a6731904",
   "metadata": {
    "tags": []
   },
   "outputs": [
    {
     "name": "stdout",
     "output_type": "stream",
     "text": [
      "Accuracy: 0.9656652360515021\n",
      "Classification Report:\n",
      "               precision    recall  f1-score   support\n",
      "\n",
      "           0       0.97      1.00      0.98      1322\n",
      "           1       0.97      0.38      0.55        76\n",
      "\n",
      "    accuracy                           0.97      1398\n",
      "   macro avg       0.97      0.69      0.76      1398\n",
      "weighted avg       0.97      0.97      0.96      1398\n",
      "\n",
      "\n",
      "Confusion Matrix:\n",
      " [[1321    1]\n",
      " [  47   29]]\n"
     ]
    }
   ],
   "source": [
    "# Evaluate the model\n",
    "accuracy = accuracy_score(y_test, y_pred)\n",
    "classification_rep = classification_report(y_test, y_pred)\n",
    "conf_matrix = confusion_matrix(y_test, y_pred)\n",
    "\n",
    "print(f\"Accuracy: {accuracy}\")\n",
    "print(\"Classification Report:\\n\", classification_rep)\n",
    "print('\\nConfusion Matrix:\\n', conf_matrix)"
   ]
  },
  {
   "cell_type": "code",
   "execution_count": null,
   "id": "fe5e41e1-79b3-43d8-80d2-9feb91b4c627",
   "metadata": {},
   "outputs": [],
   "source": []
  }
 ],
 "metadata": {
  "kernelspec": {
   "display_name": "MyEnv",
   "language": "python",
   "name": "myenv"
  },
  "language_info": {
   "codemirror_mode": {
    "name": "ipython",
    "version": 3
   },
   "file_extension": ".py",
   "mimetype": "text/x-python",
   "name": "python",
   "nbconvert_exporter": "python",
   "pygments_lexer": "ipython3",
   "version": "3.8.18"
  }
 },
 "nbformat": 4,
 "nbformat_minor": 5
}
