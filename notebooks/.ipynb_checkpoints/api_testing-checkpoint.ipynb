{
 "cells": [
  {
   "cell_type": "code",
   "execution_count": 22,
   "id": "55fb80fa-22ef-4403-8d3d-92b3c4888c52",
   "metadata": {
    "tags": []
   },
   "outputs": [],
   "source": [
    "import os\n",
    "os.chdir('/Users/jlo/Desktop/LHL/LHLProjects/LHL-Capstone-Project')"
   ]
  },
  {
   "cell_type": "code",
   "execution_count": 23,
   "id": "78d1399e-e279-4d48-a111-3b65f6c8322c",
   "metadata": {
    "tags": []
   },
   "outputs": [],
   "source": [
    "from src.data_preprocessing import df_construct, add_eng_values, alter_term_gender\n",
    "from src.model_training import build_preprocessor, build_full_pipeline"
   ]
  },
  {
   "cell_type": "code",
   "execution_count": 188,
   "id": "883f5d1e-bdc4-4800-9f3f-d9f3e241eb30",
   "metadata": {
    "tags": []
   },
   "outputs": [
    {
     "name": "stdout",
     "output_type": "stream",
     "text": [
      "{'prediction': 'Not At-Risk'}\n"
     ]
    }
   ],
   "source": [
    "import requests\n",
    "\n",
    "url = 'http://localhost:5000/predict'\n",
    "\n",
    "# Example data for prediction\n",
    "data = {\n",
    "    'content_completed': 1,\n",
    "    'content_required': 7,\n",
    "    'checklist_completed': 0,\n",
    "    'quiz_completed': 1,\n",
    "    'total_quiz_attempts': 3,\n",
    "    'discussion_post_read': 2,\n",
    "    'number_of_assignment_submissions': 0,\n",
    "    'total_time_spent_in_content': 60,\n",
    "    'number_of_logins_to_the_system': 240,\n",
    "    'term': '2023F',\n",
    "    'pseudo_id': 227,\n",
    "    'pseudo_course': 'course_1',\n",
    "    'total_course_count': 12,\n",
    "    'course_count_by_term': 6,\n",
    "    'gender': 'M',\n",
    "    'imm_status': 'domestic',\n",
    "    'age': 21,\n",
    "    'week': 3\n",
    "}\n",
    "\n",
    "# Send POST request to the API\n",
    "response = requests.post(url, json=data)\n",
    "\n",
    "# Check the response\n",
    "if response.status_code == 200:\n",
    "    result = response.json()\n",
    "    \n",
    "    print(result)\n",
    "else:\n",
    "    print(f\"Error: {response.json()}\")"
   ]
  },
  {
   "cell_type": "code",
   "execution_count": null,
   "id": "4358294a-00e7-463a-8742-736b49f49415",
   "metadata": {},
   "outputs": [],
   "source": []
  }
 ],
 "metadata": {
  "kernelspec": {
   "display_name": "MyEnv",
   "language": "python",
   "name": "myenv"
  },
  "language_info": {
   "codemirror_mode": {
    "name": "ipython",
    "version": 3
   },
   "file_extension": ".py",
   "mimetype": "text/x-python",
   "name": "python",
   "nbconvert_exporter": "python",
   "pygments_lexer": "ipython3",
   "version": "3.8.18"
  }
 },
 "nbformat": 4,
 "nbformat_minor": 5
}
