{
 "cells": [
  {
   "cell_type": "markdown",
   "id": "ec9197ee-6260-45dc-9382-6ed176f88df7",
   "metadata": {},
   "source": [
    "# Pre-processing"
   ]
  },
  {
   "cell_type": "markdown",
   "id": "1fd9d7e5-95d6-45f7-8803-721df951afcc",
   "metadata": {},
   "source": [
    "This pre-processing recieves a .xlsx file and returns a processed.xlsx file. "
   ]
  },
  {
   "cell_type": "code",
   "execution_count": 234,
   "id": "efcb8eda-4b3d-4d93-80f8-038f37acd40e",
   "metadata": {
    "tags": []
   },
   "outputs": [],
   "source": [
    "import pandas as pd\n",
    "import numpy as np\n",
    "from sklearn.model_selection import train_test_split\n",
    "from sklearn.compose import ColumnTransformer\n",
    "from sklearn.pipeline import Pipeline\n",
    "from sklearn.impute import SimpleImputer\n",
    "from sklearn.preprocessing import FunctionTransformer\n",
    "from sklearn.preprocessing import StandardScaler, OneHotEncoder\n",
    "from sklearn.feature_selection import SelectFromModel\n",
    "from sklearn.ensemble import RandomForestClassifier\n",
    "from sklearn.model_selection import GridSearchCV\n",
    "from sklearn.metrics import accuracy_score, classification_report, confusion_matrix\n",
    "import joblib  # For model serialization (pickling)"
   ]
  },
  {
   "cell_type": "code",
   "execution_count": 237,
   "id": "ba0c9d9c-633a-49e4-ad89-3696a6539f50",
   "metadata": {
    "tags": []
   },
   "outputs": [],
   "source": [
    "excel_file = pd.ExcelFile('D2lData.xlsx')\n",
    "\n",
    "# Reading each sheet into a DataFrame\n",
    "df_d2l = pd.read_excel(excel_file, 'd2l')\n",
    "df_demo = pd.read_excel(excel_file, 'demographics')\n",
    "df_grades = pd.read_excel(excel_file, 'grades')"
   ]
  },
  {
   "cell_type": "code",
   "execution_count": 236,
   "id": "06e443be-bae8-4b23-97dc-2c14b68196f2",
   "metadata": {
    "tags": []
   },
   "outputs": [],
   "source": [
    "def df_construct(df_d2l, df_demo, df_grades):\n",
    "    \n",
    "    # Drop duplicates based on the specified columns, keeping the first occurrence (which has the largest 'content_completed')\n",
    "    df_d2l.sort_values(by='content_completed', ascending=False, inplace=True)\n",
    "    df_d2l.drop_duplicates(subset=['pseudo_id', 'pseudo_course', 'term'], keep='first', inplace=True)\n",
    "    \n",
    "    # Drop all date columns\n",
    "    df_d2l.drop(columns=['last_discussion_post_date', 'last_assignment_submission_date', 'last_system_login',\n",
    "                         'last_quiz_attempt_date', 'last_visited_date'], axis=1, inplace=True)\n",
    "    \n",
    "    # appending the \"grade_value\" column into the df_d2l dataframe (if there is no grade, a zero is input)\n",
    "    df_d2l['grade_value'] = df_d2l.apply(lambda row: df_grades[\n",
    "        (df_grades['pseudo_student_id'] == row['pseudo_id']) & \n",
    "        (df_grades['pseudo_course_name'] == row['pseudo_course']) &\n",
    "        (df_grades['term'] == row['term'])\n",
    "    ]['grade_value'].values[0] if not df_grades[\n",
    "        (df_grades['pseudo_student_id'] == row['pseudo_id']) & \n",
    "        (df_grades['pseudo_course_name'] == row['pseudo_course']) &\n",
    "        (df_grades['term'] == row['term'])\n",
    "    ].empty else 0, axis=1)\n",
    "    \n",
    "    # append 'gender', 'imm_status', 'age' onto dataframe - joined on student id\n",
    "    merged_df = pd.merge(df_d2l, df_demo[['pseudo_student_id', 'gender', 'imm_status', 'age']], \n",
    "                         left_on='pseudo_id', right_on='pseudo_student_id', how='left')\n",
    "    merged_df.drop('pseudo_student_id', axis=1, inplace=True)\n",
    "    \n",
    "    # Append the total course counts for each student\n",
    "    course_counts_df = df_grades.groupby('pseudo_student_id')['pseudo_course_name'].count().reset_index()\n",
    "    course_counts_df.columns = ['pseudo_student_id', 'total_course_count']\n",
    "\n",
    "    merged_df = pd.merge(merged_df, course_counts_df, left_on='pseudo_id', right_on='pseudo_student_id', how='left')\n",
    "    merged_df.drop('pseudo_student_id', axis=1, inplace=True)\n",
    "    \n",
    "    # Append the total course counts for each student by term\n",
    "    course_counts_by_term_df = df_grades.groupby(['pseudo_student_id','term'])['pseudo_course_name'].count().reset_index()\n",
    "    course_counts_by_term_df.columns = ['pseudo_student_id', 'term', 'course_count_by_term']\n",
    "\n",
    "    merged_df = pd.merge(merged_df, course_counts_by_term_df, left_on=['pseudo_id','term'], right_on=['pseudo_student_id', 'term'], how='left')\n",
    "    merged_df.drop('pseudo_student_id', axis=1, inplace=True)\n",
    "    \n",
    "    # drop student id from df\n",
    "    merged_df.drop('pseudo_id', axis=1, inplace=True)\n",
    "    \n",
    "    # Apply the function to create the 'at_risk' column that classifies any students with a 1.0 or below as \"at-risk\"\n",
    "    merged_df['at_risk'] = merged_df['grade_value'].apply(lambda grade: 1 if grade < 1.0 else 0)\n",
    "    \n",
    "    # drop grade_value from df\n",
    "    merged_df.drop('grade_value', axis=1, inplace=True)\n",
    "    \n",
    "    # Add engineered values\n",
    "    merged_df = add_eng_values(merged_df)\n",
    "    \n",
    "    # Alter categorical columns as necessary\n",
    "    merged_df = alter_term_gender(merged_df)\n",
    "    \n",
    "    return merged_df"
   ]
  },
  {
   "cell_type": "code",
   "execution_count": 238,
   "id": "23d92e74-0b10-4e1c-9b77-e956bff3361a",
   "metadata": {
    "tags": []
   },
   "outputs": [],
   "source": [
    "df = df_construct(df_d2l, df_demo, df_grades)"
   ]
  },
  {
   "cell_type": "code",
   "execution_count": 240,
   "id": "be668283-8d48-430c-b719-143f5db32654",
   "metadata": {
    "tags": []
   },
   "outputs": [],
   "source": [
    "X = df.drop('at_risk', axis=1)\n",
    "y = df.at_risk"
   ]
  },
  {
   "cell_type": "code",
   "execution_count": null,
   "id": "8cff8cbc-9e04-40b0-98cf-545d0536d692",
   "metadata": {
    "tags": []
   },
   "outputs": [],
   "source": []
  },
  {
   "cell_type": "code",
   "execution_count": 179,
   "id": "0d862aaa-8ba3-49b1-915a-ee28d695c4be",
   "metadata": {
    "tags": []
   },
   "outputs": [],
   "source": [
    "# A function to add the engineered values - completion ratio, logins per course, average time spent per course login\n",
    "\n",
    "def add_eng_values(X):\n",
    "    \n",
    "    X['completion_ratio'] = X['content_completed']/X['content_required']\n",
    "    X['logins_per_course'] = X['number_of_logins_to_the_system']/X['total_course_count']\n",
    "    X['avg_time_per_login'] = X['total_time_spent_in_content']/X['logins_per_course']\n",
    "    \n",
    "    X['completion_ratio'].fillna(0, inplace=True)\n",
    "    X['avg_time_per_login'].fillna(0, inplace=True)\n",
    "    X['course_count_by_term'].fillna(0, inplace=True)\n",
    "    \n",
    "    return X\n",
    "\n",
    "# Define the transformer\n",
    "eng_values_transformer = FunctionTransformer(add_eng_values, validate=False)"
   ]
  },
  {
   "cell_type": "code",
   "execution_count": 175,
   "id": "646f22fa-d1c3-4673-9503-f9ca62b92ca7",
   "metadata": {
    "tags": []
   },
   "outputs": [],
   "source": [
    "# Create a function for the logarithmic transformation\n",
    "log_transformer = FunctionTransformer(func=np.log1p, inverse_func=np.expm1)"
   ]
  },
  {
   "cell_type": "code",
   "execution_count": 196,
   "id": "b76b6398-1e16-47e6-a3db-0ff98288d67d",
   "metadata": {
    "tags": []
   },
   "outputs": [],
   "source": [
    "def alter_term_gender(X_cat):\n",
    "    \n",
    "    # Alter format of 'term' value from 'DDDDS' to 'S'\n",
    "    X_cat['term'] = X_cat['term'].str[-1]\n",
    "    \n",
    "    # Replace missing values in Gender column with 'U' for \"undeclared\"\n",
    "    X_cat['gender'].fillna('U', inplace=True)\n",
    "    \n",
    "    return X_cat\n",
    "\n",
    "# Define the transformer\n",
    "term_gender_transformer = FunctionTransformer(alter_term_gender, validate=False)"
   ]
  },
  {
   "cell_type": "code",
   "execution_count": 247,
   "id": "f4e20734-33de-45b6-8f03-1a0737a76c07",
   "metadata": {
    "tags": []
   },
   "outputs": [],
   "source": [
    "# Train-test split\n",
    "X_train, X_test, y_train, y_test = train_test_split(X, y, test_size=0.2, random_state=42)"
   ]
  },
  {
   "cell_type": "code",
   "execution_count": 248,
   "id": "137ece3d-4f08-407b-bfd0-67e8d49d58cf",
   "metadata": {
    "tags": []
   },
   "outputs": [],
   "source": [
    "numeric_features = X_train.select_dtypes(include=['number']).columns.tolist()\n",
    "categorical_features = X_train.select_dtypes(include=['object']).columns.tolist()\n",
    "\n",
    "# Create preprocessing transformers\n",
    "numeric_transformer = Pipeline(steps=[\n",
    "    ('imputer', SimpleImputer(strategy='constant', fill_value=0)),\n",
    "    ('log_transform', log_transformer)\n",
    "])\n",
    "\n",
    "categorical_transformer = Pipeline(steps=[\n",
    "    ('onehot', OneHotEncoder(handle_unknown='ignore', sparse_output=False))\n",
    "])\n",
    "\n",
    "# Combine transformers using ColumnTransformer\n",
    "preprocessor = ColumnTransformer(\n",
    "    transformers=[\n",
    "        ('num', numeric_transformer, numeric_features),\n",
    "        ('cat', categorical_transformer, categorical_features)\n",
    "    ])\n",
    "\n",
    "# Define your model\n",
    "model = RandomForestClassifier()\n",
    "\n",
    "# Create the final pipeline\n",
    "full_pipeline = Pipeline([\n",
    "    ('preprocessor', preprocessor),\n",
    "    ('model', model)\n",
    "])"
   ]
  },
  {
   "cell_type": "code",
   "execution_count": null,
   "id": "4862e8d1-90d6-4dc7-86e8-cc7c58f9d613",
   "metadata": {},
   "outputs": [],
   "source": []
  },
  {
   "cell_type": "code",
   "execution_count": 249,
   "id": "c09b793a-6b55-44bb-9684-98c6993b3fde",
   "metadata": {
    "tags": []
   },
   "outputs": [
    {
     "data": {
      "text/html": [
       "<style>#sk-container-id-3 {color: black;}#sk-container-id-3 pre{padding: 0;}#sk-container-id-3 div.sk-toggleable {background-color: white;}#sk-container-id-3 label.sk-toggleable__label {cursor: pointer;display: block;width: 100%;margin-bottom: 0;padding: 0.3em;box-sizing: border-box;text-align: center;}#sk-container-id-3 label.sk-toggleable__label-arrow:before {content: \"▸\";float: left;margin-right: 0.25em;color: #696969;}#sk-container-id-3 label.sk-toggleable__label-arrow:hover:before {color: black;}#sk-container-id-3 div.sk-estimator:hover label.sk-toggleable__label-arrow:before {color: black;}#sk-container-id-3 div.sk-toggleable__content {max-height: 0;max-width: 0;overflow: hidden;text-align: left;background-color: #f0f8ff;}#sk-container-id-3 div.sk-toggleable__content pre {margin: 0.2em;color: black;border-radius: 0.25em;background-color: #f0f8ff;}#sk-container-id-3 input.sk-toggleable__control:checked~div.sk-toggleable__content {max-height: 200px;max-width: 100%;overflow: auto;}#sk-container-id-3 input.sk-toggleable__control:checked~label.sk-toggleable__label-arrow:before {content: \"▾\";}#sk-container-id-3 div.sk-estimator input.sk-toggleable__control:checked~label.sk-toggleable__label {background-color: #d4ebff;}#sk-container-id-3 div.sk-label input.sk-toggleable__control:checked~label.sk-toggleable__label {background-color: #d4ebff;}#sk-container-id-3 input.sk-hidden--visually {border: 0;clip: rect(1px 1px 1px 1px);clip: rect(1px, 1px, 1px, 1px);height: 1px;margin: -1px;overflow: hidden;padding: 0;position: absolute;width: 1px;}#sk-container-id-3 div.sk-estimator {font-family: monospace;background-color: #f0f8ff;border: 1px dotted black;border-radius: 0.25em;box-sizing: border-box;margin-bottom: 0.5em;}#sk-container-id-3 div.sk-estimator:hover {background-color: #d4ebff;}#sk-container-id-3 div.sk-parallel-item::after {content: \"\";width: 100%;border-bottom: 1px solid gray;flex-grow: 1;}#sk-container-id-3 div.sk-label:hover label.sk-toggleable__label {background-color: #d4ebff;}#sk-container-id-3 div.sk-serial::before {content: \"\";position: absolute;border-left: 1px solid gray;box-sizing: border-box;top: 0;bottom: 0;left: 50%;z-index: 0;}#sk-container-id-3 div.sk-serial {display: flex;flex-direction: column;align-items: center;background-color: white;padding-right: 0.2em;padding-left: 0.2em;position: relative;}#sk-container-id-3 div.sk-item {position: relative;z-index: 1;}#sk-container-id-3 div.sk-parallel {display: flex;align-items: stretch;justify-content: center;background-color: white;position: relative;}#sk-container-id-3 div.sk-item::before, #sk-container-id-3 div.sk-parallel-item::before {content: \"\";position: absolute;border-left: 1px solid gray;box-sizing: border-box;top: 0;bottom: 0;left: 50%;z-index: -1;}#sk-container-id-3 div.sk-parallel-item {display: flex;flex-direction: column;z-index: 1;position: relative;background-color: white;}#sk-container-id-3 div.sk-parallel-item:first-child::after {align-self: flex-end;width: 50%;}#sk-container-id-3 div.sk-parallel-item:last-child::after {align-self: flex-start;width: 50%;}#sk-container-id-3 div.sk-parallel-item:only-child::after {width: 0;}#sk-container-id-3 div.sk-dashed-wrapped {border: 1px dashed gray;margin: 0 0.4em 0.5em 0.4em;box-sizing: border-box;padding-bottom: 0.4em;background-color: white;}#sk-container-id-3 div.sk-label label {font-family: monospace;font-weight: bold;display: inline-block;line-height: 1.2em;}#sk-container-id-3 div.sk-label-container {text-align: center;}#sk-container-id-3 div.sk-container {/* jupyter's `normalize.less` sets `[hidden] { display: none; }` but bootstrap.min.css set `[hidden] { display: none !important; }` so we also need the `!important` here to be able to override the default hidden behavior on the sphinx rendered scikit-learn.org. See: https://github.com/scikit-learn/scikit-learn/issues/21755 */display: inline-block !important;position: relative;}#sk-container-id-3 div.sk-text-repr-fallback {display: none;}</style><div id=\"sk-container-id-3\" class=\"sk-top-container\"><div class=\"sk-text-repr-fallback\"><pre>Pipeline(steps=[(&#x27;preprocessor&#x27;,\n",
       "                 ColumnTransformer(transformers=[(&#x27;num&#x27;,\n",
       "                                                  Pipeline(steps=[(&#x27;imputer&#x27;,\n",
       "                                                                   SimpleImputer(fill_value=0,\n",
       "                                                                                 strategy=&#x27;constant&#x27;)),\n",
       "                                                                  (&#x27;log_transform&#x27;,\n",
       "                                                                   FunctionTransformer(func=&lt;ufunc &#x27;log1p&#x27;&gt;,\n",
       "                                                                                       inverse_func=&lt;ufunc &#x27;expm1&#x27;&gt;))]),\n",
       "                                                  [&#x27;content_completed&#x27;,\n",
       "                                                   &#x27;content_required&#x27;,\n",
       "                                                   &#x27;checklist_completed&#x27;,\n",
       "                                                   &#x27;quiz_completed&#x27;,\n",
       "                                                   &#x27;total_quiz_attempts&#x27;,\n",
       "                                                   &#x27;discussion_p...\n",
       "                                                   &#x27;total_time_spent_in_content&#x27;,\n",
       "                                                   &#x27;number_of_logins_to_the_system&#x27;,\n",
       "                                                   &#x27;age&#x27;, &#x27;total_course_count&#x27;,\n",
       "                                                   &#x27;course_count_by_term&#x27;,\n",
       "                                                   &#x27;completion_ratio&#x27;,\n",
       "                                                   &#x27;logins_per_course&#x27;,\n",
       "                                                   &#x27;avg_time_per_login&#x27;]),\n",
       "                                                 (&#x27;cat&#x27;,\n",
       "                                                  Pipeline(steps=[(&#x27;onehot&#x27;,\n",
       "                                                                   OneHotEncoder(handle_unknown=&#x27;ignore&#x27;,\n",
       "                                                                                 sparse_output=False))]),\n",
       "                                                  [&#x27;term&#x27;, &#x27;pseudo_course&#x27;,\n",
       "                                                   &#x27;gender&#x27;, &#x27;imm_status&#x27;])])),\n",
       "                (&#x27;model&#x27;, RandomForestClassifier())])</pre><b>In a Jupyter environment, please rerun this cell to show the HTML representation or trust the notebook. <br />On GitHub, the HTML representation is unable to render, please try loading this page with nbviewer.org.</b></div><div class=\"sk-container\" hidden><div class=\"sk-item sk-dashed-wrapped\"><div class=\"sk-label-container\"><div class=\"sk-label sk-toggleable\"><input class=\"sk-toggleable__control sk-hidden--visually\" id=\"sk-estimator-id-17\" type=\"checkbox\" ><label for=\"sk-estimator-id-17\" class=\"sk-toggleable__label sk-toggleable__label-arrow\">Pipeline</label><div class=\"sk-toggleable__content\"><pre>Pipeline(steps=[(&#x27;preprocessor&#x27;,\n",
       "                 ColumnTransformer(transformers=[(&#x27;num&#x27;,\n",
       "                                                  Pipeline(steps=[(&#x27;imputer&#x27;,\n",
       "                                                                   SimpleImputer(fill_value=0,\n",
       "                                                                                 strategy=&#x27;constant&#x27;)),\n",
       "                                                                  (&#x27;log_transform&#x27;,\n",
       "                                                                   FunctionTransformer(func=&lt;ufunc &#x27;log1p&#x27;&gt;,\n",
       "                                                                                       inverse_func=&lt;ufunc &#x27;expm1&#x27;&gt;))]),\n",
       "                                                  [&#x27;content_completed&#x27;,\n",
       "                                                   &#x27;content_required&#x27;,\n",
       "                                                   &#x27;checklist_completed&#x27;,\n",
       "                                                   &#x27;quiz_completed&#x27;,\n",
       "                                                   &#x27;total_quiz_attempts&#x27;,\n",
       "                                                   &#x27;discussion_p...\n",
       "                                                   &#x27;total_time_spent_in_content&#x27;,\n",
       "                                                   &#x27;number_of_logins_to_the_system&#x27;,\n",
       "                                                   &#x27;age&#x27;, &#x27;total_course_count&#x27;,\n",
       "                                                   &#x27;course_count_by_term&#x27;,\n",
       "                                                   &#x27;completion_ratio&#x27;,\n",
       "                                                   &#x27;logins_per_course&#x27;,\n",
       "                                                   &#x27;avg_time_per_login&#x27;]),\n",
       "                                                 (&#x27;cat&#x27;,\n",
       "                                                  Pipeline(steps=[(&#x27;onehot&#x27;,\n",
       "                                                                   OneHotEncoder(handle_unknown=&#x27;ignore&#x27;,\n",
       "                                                                                 sparse_output=False))]),\n",
       "                                                  [&#x27;term&#x27;, &#x27;pseudo_course&#x27;,\n",
       "                                                   &#x27;gender&#x27;, &#x27;imm_status&#x27;])])),\n",
       "                (&#x27;model&#x27;, RandomForestClassifier())])</pre></div></div></div><div class=\"sk-serial\"><div class=\"sk-item sk-dashed-wrapped\"><div class=\"sk-label-container\"><div class=\"sk-label sk-toggleable\"><input class=\"sk-toggleable__control sk-hidden--visually\" id=\"sk-estimator-id-18\" type=\"checkbox\" ><label for=\"sk-estimator-id-18\" class=\"sk-toggleable__label sk-toggleable__label-arrow\">preprocessor: ColumnTransformer</label><div class=\"sk-toggleable__content\"><pre>ColumnTransformer(transformers=[(&#x27;num&#x27;,\n",
       "                                 Pipeline(steps=[(&#x27;imputer&#x27;,\n",
       "                                                  SimpleImputer(fill_value=0,\n",
       "                                                                strategy=&#x27;constant&#x27;)),\n",
       "                                                 (&#x27;log_transform&#x27;,\n",
       "                                                  FunctionTransformer(func=&lt;ufunc &#x27;log1p&#x27;&gt;,\n",
       "                                                                      inverse_func=&lt;ufunc &#x27;expm1&#x27;&gt;))]),\n",
       "                                 [&#x27;content_completed&#x27;, &#x27;content_required&#x27;,\n",
       "                                  &#x27;checklist_completed&#x27;, &#x27;quiz_completed&#x27;,\n",
       "                                  &#x27;total_quiz_attempts&#x27;,\n",
       "                                  &#x27;discussion_post_created&#x27;,\n",
       "                                  &#x27;discussion_post_re...\n",
       "                                  &#x27;number_of_assignment_submissions&#x27;,\n",
       "                                  &#x27;total_time_spent_in_content&#x27;,\n",
       "                                  &#x27;number_of_logins_to_the_system&#x27;, &#x27;age&#x27;,\n",
       "                                  &#x27;total_course_count&#x27;, &#x27;course_count_by_term&#x27;,\n",
       "                                  &#x27;completion_ratio&#x27;, &#x27;logins_per_course&#x27;,\n",
       "                                  &#x27;avg_time_per_login&#x27;]),\n",
       "                                (&#x27;cat&#x27;,\n",
       "                                 Pipeline(steps=[(&#x27;onehot&#x27;,\n",
       "                                                  OneHotEncoder(handle_unknown=&#x27;ignore&#x27;,\n",
       "                                                                sparse_output=False))]),\n",
       "                                 [&#x27;term&#x27;, &#x27;pseudo_course&#x27;, &#x27;gender&#x27;,\n",
       "                                  &#x27;imm_status&#x27;])])</pre></div></div></div><div class=\"sk-parallel\"><div class=\"sk-parallel-item\"><div class=\"sk-item\"><div class=\"sk-label-container\"><div class=\"sk-label sk-toggleable\"><input class=\"sk-toggleable__control sk-hidden--visually\" id=\"sk-estimator-id-19\" type=\"checkbox\" ><label for=\"sk-estimator-id-19\" class=\"sk-toggleable__label sk-toggleable__label-arrow\">num</label><div class=\"sk-toggleable__content\"><pre>[&#x27;content_completed&#x27;, &#x27;content_required&#x27;, &#x27;checklist_completed&#x27;, &#x27;quiz_completed&#x27;, &#x27;total_quiz_attempts&#x27;, &#x27;discussion_post_created&#x27;, &#x27;discussion_post_replies&#x27;, &#x27;discussion_post_read&#x27;, &#x27;number_of_assignment_submissions&#x27;, &#x27;total_time_spent_in_content&#x27;, &#x27;number_of_logins_to_the_system&#x27;, &#x27;age&#x27;, &#x27;total_course_count&#x27;, &#x27;course_count_by_term&#x27;, &#x27;completion_ratio&#x27;, &#x27;logins_per_course&#x27;, &#x27;avg_time_per_login&#x27;]</pre></div></div></div><div class=\"sk-serial\"><div class=\"sk-item\"><div class=\"sk-serial\"><div class=\"sk-item\"><div class=\"sk-estimator sk-toggleable\"><input class=\"sk-toggleable__control sk-hidden--visually\" id=\"sk-estimator-id-20\" type=\"checkbox\" ><label for=\"sk-estimator-id-20\" class=\"sk-toggleable__label sk-toggleable__label-arrow\">SimpleImputer</label><div class=\"sk-toggleable__content\"><pre>SimpleImputer(fill_value=0, strategy=&#x27;constant&#x27;)</pre></div></div></div><div class=\"sk-item\"><div class=\"sk-estimator sk-toggleable\"><input class=\"sk-toggleable__control sk-hidden--visually\" id=\"sk-estimator-id-21\" type=\"checkbox\" ><label for=\"sk-estimator-id-21\" class=\"sk-toggleable__label sk-toggleable__label-arrow\">FunctionTransformer</label><div class=\"sk-toggleable__content\"><pre>FunctionTransformer(func=&lt;ufunc &#x27;log1p&#x27;&gt;, inverse_func=&lt;ufunc &#x27;expm1&#x27;&gt;)</pre></div></div></div></div></div></div></div></div><div class=\"sk-parallel-item\"><div class=\"sk-item\"><div class=\"sk-label-container\"><div class=\"sk-label sk-toggleable\"><input class=\"sk-toggleable__control sk-hidden--visually\" id=\"sk-estimator-id-22\" type=\"checkbox\" ><label for=\"sk-estimator-id-22\" class=\"sk-toggleable__label sk-toggleable__label-arrow\">cat</label><div class=\"sk-toggleable__content\"><pre>[&#x27;term&#x27;, &#x27;pseudo_course&#x27;, &#x27;gender&#x27;, &#x27;imm_status&#x27;]</pre></div></div></div><div class=\"sk-serial\"><div class=\"sk-item\"><div class=\"sk-serial\"><div class=\"sk-item\"><div class=\"sk-estimator sk-toggleable\"><input class=\"sk-toggleable__control sk-hidden--visually\" id=\"sk-estimator-id-23\" type=\"checkbox\" ><label for=\"sk-estimator-id-23\" class=\"sk-toggleable__label sk-toggleable__label-arrow\">OneHotEncoder</label><div class=\"sk-toggleable__content\"><pre>OneHotEncoder(handle_unknown=&#x27;ignore&#x27;, sparse_output=False)</pre></div></div></div></div></div></div></div></div></div></div><div class=\"sk-item\"><div class=\"sk-estimator sk-toggleable\"><input class=\"sk-toggleable__control sk-hidden--visually\" id=\"sk-estimator-id-24\" type=\"checkbox\" ><label for=\"sk-estimator-id-24\" class=\"sk-toggleable__label sk-toggleable__label-arrow\">RandomForestClassifier</label><div class=\"sk-toggleable__content\"><pre>RandomForestClassifier()</pre></div></div></div></div></div></div></div>"
      ],
      "text/plain": [
       "Pipeline(steps=[('preprocessor',\n",
       "                 ColumnTransformer(transformers=[('num',\n",
       "                                                  Pipeline(steps=[('imputer',\n",
       "                                                                   SimpleImputer(fill_value=0,\n",
       "                                                                                 strategy='constant')),\n",
       "                                                                  ('log_transform',\n",
       "                                                                   FunctionTransformer(func=<ufunc 'log1p'>,\n",
       "                                                                                       inverse_func=<ufunc 'expm1'>))]),\n",
       "                                                  ['content_completed',\n",
       "                                                   'content_required',\n",
       "                                                   'checklist_completed',\n",
       "                                                   'quiz_completed',\n",
       "                                                   'total_quiz_attempts',\n",
       "                                                   'discussion_p...\n",
       "                                                   'total_time_spent_in_content',\n",
       "                                                   'number_of_logins_to_the_system',\n",
       "                                                   'age', 'total_course_count',\n",
       "                                                   'course_count_by_term',\n",
       "                                                   'completion_ratio',\n",
       "                                                   'logins_per_course',\n",
       "                                                   'avg_time_per_login']),\n",
       "                                                 ('cat',\n",
       "                                                  Pipeline(steps=[('onehot',\n",
       "                                                                   OneHotEncoder(handle_unknown='ignore',\n",
       "                                                                                 sparse_output=False))]),\n",
       "                                                  ['term', 'pseudo_course',\n",
       "                                                   'gender', 'imm_status'])])),\n",
       "                ('model', RandomForestClassifier())])"
      ]
     },
     "execution_count": 249,
     "metadata": {},
     "output_type": "execute_result"
    }
   ],
   "source": [
    "# Fit the pipeline to your training data\n",
    "full_pipeline.fit(X_train, y_train)"
   ]
  },
  {
   "cell_type": "code",
   "execution_count": 250,
   "id": "0fc3ed12-62ce-433d-86fa-1a9936393a23",
   "metadata": {
    "tags": []
   },
   "outputs": [],
   "source": [
    "# Predictions\n",
    "y_pred = full_pipeline.predict(X_test)"
   ]
  },
  {
   "cell_type": "code",
   "execution_count": 251,
   "id": "e65cd52a-6d87-4856-89a3-8c47a6731904",
   "metadata": {
    "tags": []
   },
   "outputs": [
    {
     "name": "stdout",
     "output_type": "stream",
     "text": [
      "Accuracy: 0.9678111587982833\n",
      "Classification Report:\n",
      "               precision    recall  f1-score   support\n",
      "\n",
      "           0       0.97      1.00      0.98      1322\n",
      "           1       0.97      0.42      0.59        76\n",
      "\n",
      "    accuracy                           0.97      1398\n",
      "   macro avg       0.97      0.71      0.79      1398\n",
      "weighted avg       0.97      0.97      0.96      1398\n",
      "\n"
     ]
    }
   ],
   "source": [
    "from sklearn.metrics import accuracy_score, classification_report\n",
    "\n",
    "# Evaluate the model\n",
    "accuracy = accuracy_score(y_test, y_pred)\n",
    "classification_rep = classification_report(y_test, y_pred)\n",
    "\n",
    "print(f\"Accuracy: {accuracy}\")\n",
    "print(\"Classification Report:\\n\", classification_rep)"
   ]
  },
  {
   "cell_type": "code",
   "execution_count": 252,
   "id": "e7413b8c-75be-4ae8-b97d-feaf14bace70",
   "metadata": {
    "tags": []
   },
   "outputs": [
    {
     "name": "stdout",
     "output_type": "stream",
     "text": [
      "\n",
      "Confusion Matrix:\n",
      " [[1321    1]\n",
      " [  44   32]]\n"
     ]
    }
   ],
   "source": [
    "conf_matrix = confusion_matrix(y_test, y_pred)\n",
    "\n",
    "print('\\nConfusion Matrix:\\n', conf_matrix)"
   ]
  },
  {
   "cell_type": "code",
   "execution_count": null,
   "id": "fe5e41e1-79b3-43d8-80d2-9feb91b4c627",
   "metadata": {},
   "outputs": [],
   "source": []
  }
 ],
 "metadata": {
  "kernelspec": {
   "display_name": "MyEnv",
   "language": "python",
   "name": "myenv"
  },
  "language_info": {
   "codemirror_mode": {
    "name": "ipython",
    "version": 3
   },
   "file_extension": ".py",
   "mimetype": "text/x-python",
   "name": "python",
   "nbconvert_exporter": "python",
   "pygments_lexer": "ipython3",
   "version": "3.8.18"
  }
 },
 "nbformat": 4,
 "nbformat_minor": 5
}
