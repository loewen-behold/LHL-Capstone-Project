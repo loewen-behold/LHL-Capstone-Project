{
 "cells": [
  {
   "cell_type": "markdown",
   "id": "2292ce52-7329-476a-8870-f2815d6aca62",
   "metadata": {},
   "source": [
    "# Hyperparameter Tuning"
   ]
  },
  {
   "cell_type": "code",
   "execution_count": 1,
   "id": "7a9d6923-bffc-4d33-beb3-0e9659112a27",
   "metadata": {
    "tags": []
   },
   "outputs": [],
   "source": [
    "import os\n",
    "os.chdir('..')"
   ]
  },
  {
   "cell_type": "code",
   "execution_count": 2,
   "id": "2d08b170-61d6-4224-a2b3-abb340fec743",
   "metadata": {
    "tags": []
   },
   "outputs": [],
   "source": [
    "import pandas as pd\n",
    "from sklearn.model_selection import train_test_split\n",
    "from src.data_preprocessing import df_construct, add_eng_values, alter_term_gender\n",
    "from src.model_training import build_preprocessor, build_model, build_full_pipeline\n",
    "from src.hyperparameter_tuning import tune_hyperparameters\n",
    "from sklearn.metrics import accuracy_score, classification_report, confusion_matrix"
   ]
  },
  {
   "cell_type": "code",
   "execution_count": 3,
   "id": "bfbfa370-dbc5-4830-9f30-9e0cf86f3ce3",
   "metadata": {
    "tags": []
   },
   "outputs": [],
   "source": [
    "# ... (Read data, df_construct, and other necessary steps)"
   ]
  },
  {
   "cell_type": "code",
   "execution_count": 4,
   "id": "54c0b569-c3ef-4465-a3fb-9db4faa06a10",
   "metadata": {
    "tags": []
   },
   "outputs": [],
   "source": [
    "# Use this code in the event that it's needed\n",
    "df = pd.read_csv('data/processed_data/df_cleaned.csv')\n",
    "X = df.drop('at_risk', axis=1)\n",
    "y = df.at_risk"
   ]
  },
  {
   "cell_type": "code",
   "execution_count": 13,
   "id": "8158d119-aec9-4836-b0d3-ff1150b23d44",
   "metadata": {
    "tags": []
   },
   "outputs": [],
   "source": [
    "X_train, X_test, y_train, y_test = train_test_split(X, y, test_size=0.2, random_state=42)"
   ]
  },
  {
   "cell_type": "code",
   "execution_count": 14,
   "id": "3c2cc76e-897d-476e-83af-77f3179bffa8",
   "metadata": {
    "tags": []
   },
   "outputs": [],
   "source": [
    "numeric_features = X_train.select_dtypes(include=['number']).columns.tolist()\n",
    "categorical_features = X_train.select_dtypes(include=['object']).columns.tolist()\n",
    "\n",
    "preprocessor = build_preprocessor(numeric_features, categorical_features)\n",
    "model = build_model()\n",
    "full_pipeline = build_full_pipeline(preprocessor, model)"
   ]
  },
  {
   "cell_type": "code",
   "execution_count": 15,
   "id": "d3169cf5-d2fa-48c6-93c0-885c527071d4",
   "metadata": {
    "tags": []
   },
   "outputs": [],
   "source": [
    "grid_search = tune_hyperparameters(full_pipeline, X_train, y_train)"
   ]
  },
  {
   "cell_type": "code",
   "execution_count": 16,
   "id": "9e8a142d-80ce-4d60-8e90-768ca001fc1a",
   "metadata": {
    "tags": []
   },
   "outputs": [
    {
     "name": "stdout",
     "output_type": "stream",
     "text": [
      "Top Models:\n",
      "                                              params  mean_test_score  \\\n",
      "8  {'model__max_depth': 20, 'model__n_estimators'...         0.944787   \n",
      "6  {'model__max_depth': 20, 'model__n_estimators'...         0.944752   \n",
      "2  {'model__max_depth': None, 'model__n_estimator...         0.942552   \n",
      "1  {'model__max_depth': None, 'model__n_estimator...         0.942532   \n",
      "7  {'model__max_depth': 20, 'model__n_estimators'...         0.941864   \n",
      "\n",
      "   std_test_score  \n",
      "8        0.006190  \n",
      "6        0.008126  \n",
      "2        0.004447  \n",
      "1        0.005986  \n",
      "7        0.006204  \n",
      "\n",
      "Best Model Accuracy: 0.9649499284692418\n",
      "Best Model Classification Report:\n",
      "               precision    recall  f1-score   support\n",
      "\n",
      "           0       0.96      1.00      0.98      1322\n",
      "           1       0.97      0.37      0.53        76\n",
      "\n",
      "    accuracy                           0.96      1398\n",
      "   macro avg       0.97      0.68      0.76      1398\n",
      "weighted avg       0.96      0.96      0.96      1398\n",
      "\n",
      "\n",
      "Confusion Matrix:\n",
      " [[1321    1]\n",
      " [  48   28]]\n"
     ]
    }
   ],
   "source": [
    "# Analyze grid search results\n",
    "cv_results = pd.DataFrame(grid_search.cv_results_)\n",
    "\n",
    "# Display the top models based on mean test scores\n",
    "top_models = cv_results.sort_values(by='mean_test_score', ascending=False).head()\n",
    "print(\"Top Models:\")\n",
    "print(top_models[['params', 'mean_test_score', 'std_test_score']])\n",
    "\n",
    "# Select the best model\n",
    "best_model = grid_search.best_estimator_\n",
    "\n",
    "# Evaluate the best model\n",
    "y_pred_best = best_model.predict(X_test)\n",
    "\n",
    "# Print accuracy and classification report for the best model\n",
    "accuracy_best = accuracy_score(y_test, y_pred_best)\n",
    "classification_rep_best = classification_report(y_test, y_pred_best)\n",
    "conf_matrix_best = confusion_matrix(y_test, y_pred_best)\n",
    "\n",
    "print(f\"\\nBest Model Accuracy: {accuracy_best}\")\n",
    "print(\"Best Model Classification Report:\\n\", classification_rep_best)\n",
    "print('\\nConfusion Matrix:\\n', conf_matrix_best)"
   ]
  },
  {
   "cell_type": "code",
   "execution_count": null,
   "id": "901680d8-8b4a-48c0-b52a-7005bc922e0f",
   "metadata": {},
   "outputs": [],
   "source": []
  }
 ],
 "metadata": {
  "kernelspec": {
   "display_name": "MyEnv",
   "language": "python",
   "name": "myenv"
  },
  "language_info": {
   "codemirror_mode": {
    "name": "ipython",
    "version": 3
   },
   "file_extension": ".py",
   "mimetype": "text/x-python",
   "name": "python",
   "nbconvert_exporter": "python",
   "pygments_lexer": "ipython3",
   "version": "3.8.18"
  }
 },
 "nbformat": 4,
 "nbformat_minor": 5
}
