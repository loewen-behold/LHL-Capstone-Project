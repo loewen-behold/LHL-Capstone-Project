{
 "cells": [
  {
   "cell_type": "markdown",
   "id": "2292ce52-7329-476a-8870-f2815d6aca62",
   "metadata": {},
   "source": [
    "# Hyperparameter Tuning"
   ]
  },
  {
   "cell_type": "code",
   "execution_count": 1,
   "id": "7a9d6923-bffc-4d33-beb3-0e9659112a27",
   "metadata": {
    "tags": []
   },
   "outputs": [],
   "source": [
    "import os\n",
    "os.chdir('..')"
   ]
  },
  {
   "cell_type": "code",
   "execution_count": 2,
   "id": "2d08b170-61d6-4224-a2b3-abb340fec743",
   "metadata": {
    "tags": []
   },
   "outputs": [],
   "source": [
    "import pandas as pd\n",
    "from sklearn.model_selection import train_test_split\n",
    "from src.data_preprocessing import df_construct, add_eng_values, alter_term_gender\n",
    "from src.model_training import build_preprocessor, build_model, build_full_pipeline\n",
    "from src.hyperparameter_tuning import tune_hyperparameters\n",
    "from sklearn.metrics import accuracy_score, classification_report, confusion_matrix"
   ]
  },
  {
   "cell_type": "code",
   "execution_count": 3,
   "id": "bfbfa370-dbc5-4830-9f30-9e0cf86f3ce3",
   "metadata": {
    "tags": []
   },
   "outputs": [],
   "source": [
    "# ... (Read data, df_construct, and other necessary steps)"
   ]
  },
  {
   "cell_type": "code",
   "execution_count": 4,
   "id": "54c0b569-c3ef-4465-a3fb-9db4faa06a10",
   "metadata": {
    "tags": []
   },
   "outputs": [],
   "source": [
    "# Use this code in the event that it's needed\n",
    "df = pd.read_csv('data/processed_data/df_cleaned.csv')\n",
    "X = df.drop('at_risk', axis=1)\n",
    "y = df.at_risk"
   ]
  },
  {
   "cell_type": "code",
   "execution_count": 9,
   "id": "8158d119-aec9-4836-b0d3-ff1150b23d44",
   "metadata": {
    "tags": []
   },
   "outputs": [],
   "source": [
    "X_train, X_test, y_train, y_test = train_test_split(X, y, test_size=0.2, random_state=42, stratify=y)"
   ]
  },
  {
   "cell_type": "code",
   "execution_count": 10,
   "id": "3c2cc76e-897d-476e-83af-77f3179bffa8",
   "metadata": {
    "tags": []
   },
   "outputs": [],
   "source": [
    "numeric_features = X_train.select_dtypes(include=['number']).columns.tolist()\n",
    "categorical_features = X_train.select_dtypes(include=['object']).columns.tolist()\n",
    "\n",
    "preprocessor = build_preprocessor(numeric_features, categorical_features)\n",
    "model = build_model()\n",
    "full_pipeline = build_full_pipeline(preprocessor, model)"
   ]
  },
  {
   "cell_type": "code",
   "execution_count": 11,
   "id": "d3169cf5-d2fa-48c6-93c0-885c527071d4",
   "metadata": {
    "tags": []
   },
   "outputs": [
    {
     "name": "stdout",
     "output_type": "stream",
     "text": [
      "Unexpected exception formatting exception. Falling back to standard exception\n"
     ]
    },
    {
     "name": "stderr",
     "output_type": "stream",
     "text": [
      "Traceback (most recent call last):\n",
      "  File \"/Users/jlo/anaconda3/envs/newenv/lib/python3.8/site-packages/IPython/core/interactiveshell.py\", line 3508, in run_code\n",
      "    exec(code_obj, self.user_global_ns, self.user_ns)\n",
      "  File \"/var/folders/hv/bb146n9d0yv30b1xnd05pwcr0000gn/T/ipykernel_58487/4028494003.py\", line 1, in <module>\n",
      "    grid_search = tune_hyperparameters(full_pipeline, X_train, y_train)\n",
      "  File \"/Users/jlo/Desktop/LHL/LHLProjects/LHL-Capstone-Project/src/hyperparameter_tuning.py\", line 18, in tune_hyperparameters\n",
      "  File \"/Users/jlo/anaconda3/envs/newenv/lib/python3.8/site-packages/sklearn/base.py\", line 1151, in wrapper\n",
      "    return fit_method(estimator, *args, **kwargs)\n",
      "  File \"/Users/jlo/anaconda3/envs/newenv/lib/python3.8/site-packages/sklearn/model_selection/_search.py\", line 898, in fit\n",
      "    self._run_search(evaluate_candidates)\n",
      "  File \"/Users/jlo/anaconda3/envs/newenv/lib/python3.8/site-packages/sklearn/model_selection/_search.py\", line 1419, in _run_search\n",
      "    evaluate_candidates(ParameterGrid(self.param_grid))\n",
      "  File \"/Users/jlo/anaconda3/envs/newenv/lib/python3.8/site-packages/sklearn/model_selection/_search.py\", line 845, in evaluate_candidates\n",
      "    out = parallel(\n",
      "  File \"/Users/jlo/anaconda3/envs/newenv/lib/python3.8/site-packages/sklearn/utils/parallel.py\", line 65, in __call__\n",
      "    return super().__call__(iterable_with_config)\n",
      "  File \"/Users/jlo/anaconda3/envs/newenv/lib/python3.8/site-packages/joblib/parallel.py\", line 1098, in __call__\n",
      "    self.retrieve()\n",
      "  File \"/Users/jlo/anaconda3/envs/newenv/lib/python3.8/site-packages/joblib/parallel.py\", line 975, in retrieve\n",
      "    self._output.extend(job.get(timeout=self.timeout))\n",
      "  File \"/Users/jlo/anaconda3/envs/newenv/lib/python3.8/site-packages/joblib/_parallel_backends.py\", line 567, in wrap_future_result\n",
      "    return future.result(timeout=timeout)\n",
      "  File \"/Users/jlo/anaconda3/envs/newenv/lib/python3.8/concurrent/futures/_base.py\", line 439, in result\n",
      "    self._condition.wait(timeout)\n",
      "  File \"/Users/jlo/anaconda3/envs/newenv/lib/python3.8/threading.py\", line 302, in wait\n",
      "    waiter.acquire()\n",
      "KeyboardInterrupt\n",
      "\n",
      "During handling of the above exception, another exception occurred:\n",
      "\n",
      "Traceback (most recent call last):\n",
      "  File \"/Users/jlo/anaconda3/envs/newenv/lib/python3.8/site-packages/IPython/core/interactiveshell.py\", line 2105, in showtraceback\n",
      "    stb = self.InteractiveTB.structured_traceback(\n",
      "  File \"/Users/jlo/anaconda3/envs/newenv/lib/python3.8/site-packages/IPython/core/ultratb.py\", line 1396, in structured_traceback\n",
      "    return FormattedTB.structured_traceback(\n",
      "  File \"/Users/jlo/anaconda3/envs/newenv/lib/python3.8/site-packages/IPython/core/ultratb.py\", line 1287, in structured_traceback\n",
      "    return VerboseTB.structured_traceback(\n",
      "  File \"/Users/jlo/anaconda3/envs/newenv/lib/python3.8/site-packages/IPython/core/ultratb.py\", line 1140, in structured_traceback\n",
      "    formatted_exception = self.format_exception_as_a_whole(etype, evalue, etb, number_of_lines_of_context,\n",
      "  File \"/Users/jlo/anaconda3/envs/newenv/lib/python3.8/site-packages/IPython/core/ultratb.py\", line 1055, in format_exception_as_a_whole\n",
      "    frames.append(self.format_record(record))\n",
      "  File \"/Users/jlo/anaconda3/envs/newenv/lib/python3.8/site-packages/IPython/core/ultratb.py\", line 955, in format_record\n",
      "    frame_info.lines, Colors, self.has_colors, lvals\n",
      "  File \"/Users/jlo/anaconda3/envs/newenv/lib/python3.8/site-packages/IPython/core/ultratb.py\", line 778, in lines\n",
      "    return self._sd.lines\n",
      "  File \"/Users/jlo/anaconda3/envs/newenv/lib/python3.8/site-packages/stack_data/utils.py\", line 145, in cached_property_wrapper\n",
      "    value = obj.__dict__[self.func.__name__] = self.func(obj)\n",
      "  File \"/Users/jlo/anaconda3/envs/newenv/lib/python3.8/site-packages/stack_data/core.py\", line 734, in lines\n",
      "    pieces = self.included_pieces\n",
      "  File \"/Users/jlo/anaconda3/envs/newenv/lib/python3.8/site-packages/stack_data/utils.py\", line 145, in cached_property_wrapper\n",
      "    value = obj.__dict__[self.func.__name__] = self.func(obj)\n",
      "  File \"/Users/jlo/anaconda3/envs/newenv/lib/python3.8/site-packages/stack_data/core.py\", line 681, in included_pieces\n",
      "    pos = scope_pieces.index(self.executing_piece)\n",
      "  File \"/Users/jlo/anaconda3/envs/newenv/lib/python3.8/site-packages/stack_data/utils.py\", line 145, in cached_property_wrapper\n",
      "    value = obj.__dict__[self.func.__name__] = self.func(obj)\n",
      "  File \"/Users/jlo/anaconda3/envs/newenv/lib/python3.8/site-packages/stack_data/core.py\", line 660, in executing_piece\n",
      "    return only(\n",
      "  File \"/Users/jlo/anaconda3/envs/newenv/lib/python3.8/site-packages/executing/executing.py\", line 116, in only\n",
      "    raise NotOneValueFound('Expected one value, found 0')\n",
      "executing.executing.NotOneValueFound: Expected one value, found 0\n"
     ]
    }
   ],
   "source": [
    "grid_search = tune_hyperparameters(full_pipeline, X_train, y_train)"
   ]
  },
  {
   "cell_type": "code",
   "execution_count": 8,
   "id": "9e8a142d-80ce-4d60-8e90-768ca001fc1a",
   "metadata": {
    "tags": []
   },
   "outputs": [
    {
     "name": "stdout",
     "output_type": "stream",
     "text": [
      "Top Models:\n",
      "                                                params  mean_test_score  \\\n",
      "36   {'model__class_weight': None, 'model__max_dept...         0.962783   \n",
      "581  {'model__class_weight': 'balanced', 'model__ma...         0.962782   \n",
      "583  {'model__class_weight': 'balanced', 'model__ma...         0.962603   \n",
      "39   {'model__class_weight': None, 'model__max_dept...         0.962425   \n",
      "618  {'model__class_weight': 'balanced', 'model__ma...         0.962246   \n",
      "\n",
      "     std_test_score  \n",
      "36         0.004307  \n",
      "581        0.004902  \n",
      "583        0.004729  \n",
      "39         0.003361  \n",
      "618        0.004411  \n",
      "\n",
      "Best Model Accuracy: 0.9656652360515021\n",
      "Best Model Classification Report:\n",
      "               precision    recall  f1-score   support\n",
      "\n",
      "           0       0.97      1.00      0.98      1322\n",
      "           1       0.91      0.41      0.56        76\n",
      "\n",
      "    accuracy                           0.97      1398\n",
      "   macro avg       0.94      0.70      0.77      1398\n",
      "weighted avg       0.96      0.97      0.96      1398\n",
      "\n",
      "\n",
      "Confusion Matrix:\n",
      " [[1319    3]\n",
      " [  45   31]]\n"
     ]
    }
   ],
   "source": [
    "# Analyze grid search results\n",
    "cv_results = pd.DataFrame(grid_search.cv_results_)\n",
    "\n",
    "# Display the top models based on mean test scores\n",
    "top_models = cv_results.sort_values(by='mean_test_score', ascending=False).head()\n",
    "print(\"Top Models:\")\n",
    "print(top_models[['params', 'mean_test_score', 'std_test_score']])\n",
    "\n",
    "# Select the best model\n",
    "best_model = grid_search.best_estimator_\n",
    "\n",
    "# Evaluate the best model\n",
    "y_pred_best = best_model.predict(X_test)\n",
    "\n",
    "# Print accuracy and classification report for the best model\n",
    "accuracy_best = accuracy_score(y_test, y_pred_best)\n",
    "classification_rep_best = classification_report(y_test, y_pred_best)\n",
    "conf_matrix_best = confusion_matrix(y_test, y_pred_best)\n",
    "\n",
    "print(f\"\\nBest Model Accuracy: {accuracy_best}\")\n",
    "print(\"Best Model Classification Report:\\n\", classification_rep_best)\n",
    "print('\\nConfusion Matrix:\\n', conf_matrix_best)"
   ]
  },
  {
   "cell_type": "code",
   "execution_count": 9,
   "id": "901680d8-8b4a-48c0-b52a-7005bc922e0f",
   "metadata": {},
   "outputs": [
    {
     "data": {
      "text/plain": [
       "{'model__class_weight': None,\n",
       " 'model__max_depth': None,\n",
       " 'model__max_features': 'sqrt',\n",
       " 'model__min_samples_leaf': 1,\n",
       " 'model__min_samples_split': 5,\n",
       " 'model__n_estimators': 300}"
      ]
     },
     "execution_count": 9,
     "metadata": {},
     "output_type": "execute_result"
    }
   ],
   "source": [
    "top_models['params'][54]"
   ]
  },
  {
   "cell_type": "code",
   "execution_count": null,
   "id": "23c86eab-37c2-498e-ba07-f0dbee5f44f1",
   "metadata": {},
   "outputs": [],
   "source": [
    "from sklearn.ensemble import RandomForestClassifier\n",
    "from sklearn.ensemble import GradientBoostingClassifier\n",
    "from sklearn.pipeline import make_pipeline\n",
    "from sklearn.preprocessing import StandardScaler\n",
    "from hyperparameter_tuning import tune_hyperparameters\n",
    "\n",
    "# Example for RandomForestClassifier\n",
    "rf_pipeline = make_pipeline(StandardScaler(), RandomForestClassifier())\n",
    "rf_param_grid = {\n",
    "    'randomforestclassifier__n_estimators': [30, 50, 100, 200, 300],\n",
    "    'randomforestclassifier__max_depth': [None, 2, 3, 5, 10, 20, 30],\n",
    "    'randomforestclassifier__class_weight': [None, 'balanced'],\n",
    "    'randomforestclassifier__min_samples_split': [2, 5, 10],\n",
    "    'randomforestclassifier__min_samples_leaf': [1, 2, 4],\n",
    "    'randomforestclassifier__max_features': ['auto', 'sqrt', 'log2']\n",
    "}\n",
    "rf_grid_search = tune_hyperparameters(rf_pipeline, rf_param_grid, X_train, y_train)\n",
    "\n",
    "# Example for GradientBoostingClassifier\n",
    "gb_pipeline = make_pipeline(StandardScaler(), GradientBoostingClassifier())\n",
    "gb_param_grid = {\n",
    "    'gradientboostingclassifier__n_estimators': [50, 100, 200],\n",
    "    'gradientboostingclassifier__learning_rate': [0.01, 0.1, 0.2],\n",
    "    'gradientboostingclassifier__max_depth': [3, 5, 7],\n",
    "    'gradientboostingclassifier__min_samples_split': [2, 5, 10],\n",
    "    'gradientboostingclassifier__min_samples_leaf': [1, 2, 4],\n",
    "    'gradientboostingclassifier__max_features': ['auto', 'sqrt', 'log2']\n",
    "}\n",
    "gb_grid_search = tune_hyperparameters(gb_pipeline, gb_param_grid, X_train, y_train)"
   ]
  }
 ],
 "metadata": {
  "kernelspec": {
   "display_name": "MyEnv",
   "language": "python",
   "name": "myenv"
  },
  "language_info": {
   "codemirror_mode": {
    "name": "ipython",
    "version": 3
   },
   "file_extension": ".py",
   "mimetype": "text/x-python",
   "name": "python",
   "nbconvert_exporter": "python",
   "pygments_lexer": "ipython3",
   "version": "3.8.18"
  }
 },
 "nbformat": 4,
 "nbformat_minor": 5
}
